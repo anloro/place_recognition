{
 "cells": [
  {
   "cell_type": "code",
   "execution_count": 2,
   "metadata": {},
   "outputs": [],
   "source": [
    "import json\n",
    "import numpy as np\n",
    "import h5py\n",
    "from scipy.spatial.distance import squareform\n",
    "import math\n",
    "from sklearn.metrics import precision_recall_curve\n",
    "import matplotlib.pyplot as plt"
   ]
  },
  {
   "cell_type": "code",
   "execution_count": 16,
   "metadata": {},
   "outputs": [],
   "source": [
    "# load similarity\n",
    "with h5py.File(\"W16_similarity (1).h5\", \"r\") as f:\n",
    "    gt_labels = f[\"sim\"][:].flatten() #similarity labels in condensed form (shape=(1,n * (n-1) / 2))\n",
    "    gt_labels = squareform(gt_labels) #similarity labels in matrix form (shape=(n, n))"
   ]
  },
  {
   "cell_type": "code",
   "execution_count": 18,
   "metadata": {},
   "outputs": [
    {
     "name": "stdout",
     "output_type": "stream",
     "text": [
      "(40752, 40752)\n",
      "[[False False False ... False False False]\n",
      " [False False False ... False False False]\n",
      " [False False False ... False False False]\n",
      " ...\n",
      " [False False False ... False False False]\n",
      " [False False False ... False False False]\n",
      " [False False False ... False False False]]\n"
     ]
    }
   ],
   "source": [
    "print(gt_labels.shape)\n",
    "print(gt_labels)"
   ]
  },
  {
   "cell_type": "code",
   "execution_count": 5,
   "metadata": {},
   "outputs": [
    {
     "name": "stdout",
     "output_type": "stream",
     "text": [
      "(1260, 1260)\n"
     ]
    }
   ],
   "source": [
    "with h5py.File(\"Sequence_00_similarity.h5\", \"r\") as f:\n",
    "    gt_labels = f[\"sim\"][:].flatten() #similarity labels in condensed form (shape=(1,n * (n-1) / 2))\n",
    "    gt_labels = squareform(gt_labels) #similarity labels in matrix form (shape=(n, n))\n",
    "\n",
    "print(gt_labels.shape)\n",
    "[n,m] = gt_labels.shape"
   ]
  },
  {
   "cell_type": "code",
   "execution_count": 6,
   "metadata": {},
   "outputs": [],
   "source": [
    "#\" Evaluate Classification \"\n",
    "# Input: Similarity matrix of classification and gound truth\n",
    "\n",
    "def PR(gt_labels,ts_labels):\n",
    "\n",
    "#\" Evaluate Classification \"\n",
    "# Input: Similarity matrix of classification and gound truth\n",
    "\n",
    "    [n,m] = gt_labels.shape\n",
    "    TP = 0\n",
    "    FP = 0\n",
    "    TN = 0\n",
    "    FN = 0\n",
    "\n",
    "    for i in range (1,n):\n",
    "        for j in range (1,m):\n",
    "            if ts_labels[i][j] == True:\n",
    "                if gt_labels[i][j] == True:\n",
    "                    TP+=1\n",
    "                elif gt_labels[i][j] == False:\n",
    "                    FP+=1\n",
    "            elif ts_labels[i][j] == False:\n",
    "                if gt_labels[i][j] == False:\n",
    "                    TN+=1\n",
    "                elif gt_labels[i][j] == True:\n",
    "                    FN+=1\n",
    "            \n",
    "            \n",
    "    Precision = TP/(TP+FP)\n",
    "    Recall = TP/(TP+FN)\n",
    "    F1 = 2*(Precision*Recall)/(Precision+Recall)\n",
    "\n",
    "    print(Precision)\n",
    "    print(Recall)\n",
    "    print(F1)\n",
    "    \n",
    "    return Precision, Recall, F1"
   ]
  },
  {
   "cell_type": "code",
   "execution_count": 7,
   "metadata": {},
   "outputs": [
    {
     "name": "stdout",
     "output_type": "stream",
     "text": [
      "1.0\n",
      "1.0\n",
      "1.0\n"
     ]
    }
   ],
   "source": [
    "# Test function: PR\n",
    "ts_labels = gt_labels\n",
    "[x,y,z] = PR(gt_labels, ts_labels)"
   ]
  },
  {
   "cell_type": "code",
   "execution_count": 8,
   "metadata": {},
   "outputs": [],
   "source": [
    "def aveP(Precision, Recall):\n",
    "# Precision and Recall should be a array (by varying threshold)\n",
    "    n = len(Precision)\n",
    "    AP = 0\n",
    "    for i in range(0,n):\n",
    "        Recall = B[i]\n",
    "        Precision = A[i]\n",
    "        if i !=0:\n",
    "            AP+=(Recall-pre)*Precision\n",
    "        else:\n",
    "            AP+=(Recall-0)*Precision\n",
    "        pre = Recall\n",
    "        \n",
    "    return AP"
   ]
  },
  {
   "cell_type": "code",
   "execution_count": 9,
   "metadata": {},
   "outputs": [
    {
     "name": "stdout",
     "output_type": "stream",
     "text": [
      "Averaged Precision:  0.3500000000000001\n"
     ]
    },
    {
     "data": {
      "image/png": "[encoded data removed]",
      "text/plain": [
       "<Figure size 432x288 with 1 Axes>"
      ]
     },
     "metadata": {
      "needs_background": "light"
     },
     "output_type": "display_data"
    }
   ],
   "source": [
    "# Test function: aveP\n",
    "A = np.array([1,0.9,0.8,0.8,0.5,0.1,0.1,0.1,0.1,0.1,0]) #Precision\n",
    "B = np.array([0,0.1,0.2,0.3,0.4,0.5,0.6,0.7,0.8,0.9,1]) #Recall\n",
    "ans = aveP(A,B)\n",
    "print(\"Averaged Precision: \",ans)\n",
    "\n",
    "# Plot Precision-Recall curve\n",
    "plt.figure(1)\n",
    "plt.plot(B,A)\n",
    "plt.xlabel(\"Recall\")\n",
    "plt.ylabel(\"Precision\")\n",
    "plt.show()\n",
    "#plt.savefig('pr.png')"
   ]
  },
  {
   "cell_type": "code",
   "execution_count": 10,
   "metadata": {},
   "outputs": [],
   "source": [
    "# load pose\n",
    "with open(\"Sequence_00.json\", \"r\") as f:\n",
    "    data = json.load(f)\n",
    "im_paths = data[\"im_paths\"] #list of image paths, length = n\n",
    "poses = np.array(data[\"poses\"]) #pose matrix of shape = (n, 7)"
   ]
  },
  {
   "cell_type": "code",
   "execution_count": 11,
   "metadata": {},
   "outputs": [
    {
     "name": "stdout",
     "output_type": "stream",
     "text": [
      "[ 4.36837452  4.77739597  0.58763258  0.66050396  0.28058243 -0.26943548\n",
      "  0.64219354]\n",
      "(1260, 7)\n"
     ]
    }
   ],
   "source": [
    "print(poses[1][:])\n",
    "# camera pose p = [t,q]\n",
    "print(poses.shape)\n"
   ]
  },
  {
   "cell_type": "code",
   "execution_count": 12,
   "metadata": {},
   "outputs": [],
   "source": [
    "def quaternion(qi):\n",
    "# Compute delta phi from quaterions\n",
    "# Input: pose-liked quaternion\n",
    "    \n",
    "    [n,m] = qi.shape\n",
    "    phi = np.zeros((n,n))\n",
    "    for i in range (0,n):\n",
    "        for j in range (0,n):\n",
    "            InProd = 0\n",
    "            if i == j:\n",
    "                phi[i][j] = 0 ;\n",
    "            else:\n",
    "                for k in range (3,7):\n",
    "                    InProd += qi[i][k]*qi[j][k]\n",
    "                \n",
    "                distance = 1 - InProd**2\n",
    "                phi[i][j] = math.acos(-2*distance+1)*180/math.pi  \n",
    "    return phi"
   ]
  },
  {
   "cell_type": "code",
   "execution_count": 13,
   "metadata": {},
   "outputs": [],
   "source": [
    "# Test function: quaternion\n",
    "Q = quaternion(poses)"
   ]
  },
  {
   "cell_type": "code",
   "execution_count": 14,
   "metadata": {},
   "outputs": [
    {
     "name": "stdout",
     "output_type": "stream",
     "text": [
      "(1260, 1260)\n",
      "0.0031224760918671197\n"
     ]
    }
   ],
   "source": [
    "print(Q.shape)\n",
    "print(Q[0][6])"
   ]
  },
  {
   "cell_type": "code",
   "execution_count": 20,
   "metadata": {},
   "outputs": [
    {
     "name": "stdout",
     "output_type": "stream",
     "text": [
      "0 6\n",
      "0 12\n",
      "0 18\n",
      "0 24\n",
      "0 30\n",
      "0 36\n",
      "0 42\n",
      "0 48\n",
      "0 54\n",
      "0 60\n",
      "0 66\n",
      "0 72\n",
      "0 78\n",
      "0 84\n",
      "0 90\n",
      "0 96\n",
      "0 102\n",
      "0 108\n",
      "0 114\n",
      "0 120\n",
      "0 126\n",
      "0 132\n",
      "0 138\n",
      "0 144\n",
      "0 150\n",
      "0 156\n",
      "0 162\n",
      "0 168\n",
      "0 174\n",
      "0 180\n",
      "0 186\n",
      "0 192\n",
      "0 198\n",
      "0 204\n",
      "0 210\n",
      "0 216\n",
      "0 222\n",
      "0 228\n",
      "0 1012\n",
      "0 1018\n",
      "0 1024\n",
      "0 1030\n",
      "0 1036\n",
      "0 1037\n",
      "0 1043\n",
      "0 1049\n",
      "0 1055\n",
      "0 1061\n",
      "0 1062\n",
      "0 1068\n",
      "0 1074\n",
      "0 1080\n",
      "0 1086\n",
      "0 1092\n",
      "0 1098\n",
      "0 1104\n",
      "0 1110\n",
      "0 1116\n",
      "0 1122\n",
      "0 1128\n",
      "0 1134\n",
      "0 1140\n",
      "0 1146\n",
      "0 1152\n",
      "0 1158\n",
      "0 1164\n",
      "0 1170\n",
      "0 1176\n",
      "0 1182\n",
      "0 1188\n",
      "0 1194\n",
      "0 1200\n",
      "0 1206\n",
      "0 1212\n",
      "0 1218\n",
      "0 1224\n",
      "0 1230\n",
      "0 1236\n",
      "0 1242\n",
      "0 1248\n",
      "0 1254\n"
     ]
    }
   ],
   "source": [
    "for i in range (0,1):\n",
    "    for j in range(0,1260):\n",
    "        if gt_labels[i][j] == True:\n",
    "            print(i,j)"
   ]
  },
  {
   "cell_type": "code",
   "execution_count": null,
   "metadata": {},
   "outputs": [],
   "source": []
  }
 ],
 "metadata": {
  "kernelspec": {
   "display_name": "Python 3",
   "language": "python",
   "name": "python3"
  },
  "language_info": {
   "codemirror_mode": {
    "name": "ipython",
    "version": 3
   },
   "file_extension": ".py",
   "mimetype": "text/x-python",
   "name": "python",
   "nbconvert_exporter": "python",
   "pygments_lexer": "ipython3",
   "version": "3.7.3"
  }
 },
 "nbformat": 4,
 "nbformat_minor": 4
}
